{
 "cells": [
  {
   "cell_type": "markdown",
   "metadata": {},
   "source": [
    "# Fine tuning"
   ]
  },
  {
   "cell_type": "markdown",
   "metadata": {},
   "source": [
    "## descarga de imagenes etiquetadas de roboflow"
   ]
  },
  {
   "cell_type": "code",
   "execution_count": 1,
   "metadata": {},
   "outputs": [
    {
     "name": "stdout",
     "output_type": "stream",
     "text": [
      "Collecting roboflow\n",
      "  Downloading roboflow-1.1.54-py3-none-any.whl.metadata (9.7 kB)\n",
      "Requirement already satisfied: certifi in c:\\users\\matko\\desktop\\uem\\proyecto grupal\\proyectogrupal-g3-uem\\venv\\lib\\site-packages (from roboflow) (2024.12.14)\n",
      "Collecting idna==3.7 (from roboflow)\n",
      "  Using cached idna-3.7-py3-none-any.whl.metadata (9.9 kB)\n",
      "Requirement already satisfied: cycler in c:\\users\\matko\\desktop\\uem\\proyecto grupal\\proyectogrupal-g3-uem\\venv\\lib\\site-packages (from roboflow) (0.12.1)\n",
      "Requirement already satisfied: kiwisolver>=1.3.1 in c:\\users\\matko\\desktop\\uem\\proyecto grupal\\proyectogrupal-g3-uem\\venv\\lib\\site-packages (from roboflow) (1.4.8)\n",
      "Requirement already satisfied: matplotlib in c:\\users\\matko\\desktop\\uem\\proyecto grupal\\proyectogrupal-g3-uem\\venv\\lib\\site-packages (from roboflow) (3.10.0)\n",
      "Requirement already satisfied: numpy>=1.18.5 in c:\\users\\matko\\desktop\\uem\\proyecto grupal\\proyectogrupal-g3-uem\\venv\\lib\\site-packages (from roboflow) (2.2.2)\n",
      "Collecting opencv-python-headless==4.10.0.84 (from roboflow)\n",
      "  Downloading opencv_python_headless-4.10.0.84-cp37-abi3-win_amd64.whl.metadata (20 kB)\n",
      "Requirement already satisfied: Pillow>=7.1.2 in c:\\users\\matko\\desktop\\uem\\proyecto grupal\\proyectogrupal-g3-uem\\venv\\lib\\site-packages (from roboflow) (10.4.0)\n",
      "Requirement already satisfied: python-dateutil in c:\\users\\matko\\desktop\\uem\\proyecto grupal\\proyectogrupal-g3-uem\\venv\\lib\\site-packages (from roboflow) (2.9.0.post0)\n",
      "Requirement already satisfied: python-dotenv in c:\\users\\matko\\desktop\\uem\\proyecto grupal\\proyectogrupal-g3-uem\\venv\\lib\\site-packages (from roboflow) (1.0.1)\n",
      "Requirement already satisfied: requests in c:\\users\\matko\\desktop\\uem\\proyecto grupal\\proyectogrupal-g3-uem\\venv\\lib\\site-packages (from roboflow) (2.32.3)\n",
      "Requirement already satisfied: six in c:\\users\\matko\\desktop\\uem\\proyecto grupal\\proyectogrupal-g3-uem\\venv\\lib\\site-packages (from roboflow) (1.17.0)\n",
      "Requirement already satisfied: urllib3>=1.26.6 in c:\\users\\matko\\desktop\\uem\\proyecto grupal\\proyectogrupal-g3-uem\\venv\\lib\\site-packages (from roboflow) (2.3.0)\n",
      "Requirement already satisfied: tqdm>=4.41.0 in c:\\users\\matko\\desktop\\uem\\proyecto grupal\\proyectogrupal-g3-uem\\venv\\lib\\site-packages (from roboflow) (4.67.1)\n",
      "Requirement already satisfied: PyYAML>=5.3.1 in c:\\users\\matko\\desktop\\uem\\proyecto grupal\\proyectogrupal-g3-uem\\venv\\lib\\site-packages (from roboflow) (6.0.2)\n",
      "Collecting requests-toolbelt (from roboflow)\n",
      "  Downloading requests_toolbelt-1.0.0-py2.py3-none-any.whl.metadata (14 kB)\n",
      "Collecting filetype (from roboflow)\n",
      "  Downloading filetype-1.2.0-py2.py3-none-any.whl.metadata (6.5 kB)\n",
      "Requirement already satisfied: colorama in c:\\users\\matko\\desktop\\uem\\proyecto grupal\\proyectogrupal-g3-uem\\venv\\lib\\site-packages (from tqdm>=4.41.0->roboflow) (0.4.6)\n",
      "Requirement already satisfied: contourpy>=1.0.1 in c:\\users\\matko\\desktop\\uem\\proyecto grupal\\proyectogrupal-g3-uem\\venv\\lib\\site-packages (from matplotlib->roboflow) (1.3.1)\n",
      "Requirement already satisfied: fonttools>=4.22.0 in c:\\users\\matko\\desktop\\uem\\proyecto grupal\\proyectogrupal-g3-uem\\venv\\lib\\site-packages (from matplotlib->roboflow) (4.55.6)\n",
      "Requirement already satisfied: packaging>=20.0 in c:\\users\\matko\\desktop\\uem\\proyecto grupal\\proyectogrupal-g3-uem\\venv\\lib\\site-packages (from matplotlib->roboflow) (24.2)\n",
      "Requirement already satisfied: pyparsing>=2.3.1 in c:\\users\\matko\\desktop\\uem\\proyecto grupal\\proyectogrupal-g3-uem\\venv\\lib\\site-packages (from matplotlib->roboflow) (3.2.1)\n",
      "Requirement already satisfied: charset-normalizer<4,>=2 in c:\\users\\matko\\desktop\\uem\\proyecto grupal\\proyectogrupal-g3-uem\\venv\\lib\\site-packages (from requests->roboflow) (3.4.1)\n",
      "Downloading roboflow-1.1.54-py3-none-any.whl (83 kB)\n",
      "Using cached idna-3.7-py3-none-any.whl (66 kB)\n",
      "Downloading opencv_python_headless-4.10.0.84-cp37-abi3-win_amd64.whl (38.8 MB)\n",
      "   ---------------------------------------- 0.0/38.8 MB ? eta -:--:--\n",
      "   --------- ------------------------------ 9.4/38.8 MB 49.1 MB/s eta 0:00:01\n",
      "   ------------------ --------------------- 18.1/38.8 MB 43.9 MB/s eta 0:00:01\n",
      "   ---------------------------- ----------- 28.0/38.8 MB 45.6 MB/s eta 0:00:01\n",
      "   ------------------------------------- -- 36.7/38.8 MB 44.9 MB/s eta 0:00:01\n",
      "   ---------------------------------------- 38.8/38.8 MB 41.1 MB/s eta 0:00:00\n",
      "Downloading filetype-1.2.0-py2.py3-none-any.whl (19 kB)\n",
      "Downloading requests_toolbelt-1.0.0-py2.py3-none-any.whl (54 kB)\n",
      "Installing collected packages: filetype, opencv-python-headless, idna, requests-toolbelt, roboflow\n",
      "  Attempting uninstall: idna\n",
      "    Found existing installation: idna 3.10\n",
      "    Uninstalling idna-3.10:\n",
      "      Successfully uninstalled idna-3.10\n",
      "Successfully installed filetype-1.2.0 idna-3.7 opencv-python-headless-4.10.0.84 requests-toolbelt-1.0.0 roboflow-1.1.54\n"
     ]
    },
    {
     "name": "stderr",
     "output_type": "stream",
     "text": [
      "\n",
      "[notice] A new release of pip is available: 24.3.1 -> 25.0.1\n",
      "[notice] To update, run: python.exe -m pip install --upgrade pip\n"
     ]
    }
   ],
   "source": [
    "!pip install roboflow"
   ]
  },
  {
   "cell_type": "code",
   "execution_count": 4,
   "metadata": {},
   "outputs": [
    {
     "name": "stdout",
     "output_type": "stream",
     "text": [
      "loading Roboflow workspace...\n",
      "loading Roboflow project...\n"
     ]
    },
    {
     "name": "stderr",
     "output_type": "stream",
     "text": [
      "Downloading Dataset Version Zip in UEM-Grupal-1 to yolov8-obb:: 100%|██████████| 6503/6503 [00:01<00:00, 6033.79it/s]"
     ]
    },
    {
     "name": "stdout",
     "output_type": "stream",
     "text": [
      "\n"
     ]
    },
    {
     "name": "stderr",
     "output_type": "stream",
     "text": [
      "\n",
      "Extracting Dataset Version Zip to UEM-Grupal-1 in yolov8-obb:: 100%|██████████| 279/279 [00:00<00:00, 1674.19it/s]\n"
     ]
    }
   ],
   "source": [
    "# Descargo dataset de Roboflow\n",
    "\n",
    "from roboflow import Roboflow\n",
    "rf = Roboflow(api_key=\"yYLfubhI7tZmi2Ur87Hy\")\n",
    "project = rf.workspace(\"proyecto-uem\").project(\"uem-grupal\")\n",
    "version = project.version(1)\n",
    "dataset = version.download(\"yolov8-obb\")"
   ]
  },
  {
   "cell_type": "markdown",
   "metadata": {},
   "source": [
    "# Fine tuning:"
   ]
  },
  {
   "cell_type": "code",
   "execution_count": 5,
   "metadata": {},
   "outputs": [],
   "source": [
    "from ultralytics import YOLO\n",
    "\n",
    "# Cargar modelo preentrenado\n",
    "model = YOLO(\"yolo11s.pt\")"
   ]
  },
  {
   "cell_type": "code",
   "execution_count": 11,
   "metadata": {},
   "outputs": [
    {
     "name": "stdout",
     "output_type": "stream",
     "text": [
      "Looking in indexes: https://pypi.org/simple, https://download.pytorch.org/whl/cpu\n",
      "Requirement already satisfied: torch in c:\\users\\matko\\desktop\\uem\\proyecto grupal\\proyectogrupal-g3-uem\\venv\\lib\\site-packages (2.5.1)\n",
      "Requirement already satisfied: torchvision in c:\\users\\matko\\desktop\\uem\\proyecto grupal\\proyectogrupal-g3-uem\\venv\\lib\\site-packages (0.20.1)\n",
      "Collecting torchaudio\n",
      "  Downloading https://download.pytorch.org/whl/cpu/torchaudio-2.6.0%2Bcpu-cp312-cp312-win_amd64.whl.metadata (6.7 kB)\n",
      "Requirement already satisfied: filelock in c:\\users\\matko\\desktop\\uem\\proyecto grupal\\proyectogrupal-g3-uem\\venv\\lib\\site-packages (from torch) (3.17.0)\n",
      "Requirement already satisfied: typing-extensions>=4.8.0 in c:\\users\\matko\\desktop\\uem\\proyecto grupal\\proyectogrupal-g3-uem\\venv\\lib\\site-packages (from torch) (4.12.2)\n",
      "Requirement already satisfied: networkx in c:\\users\\matko\\desktop\\uem\\proyecto grupal\\proyectogrupal-g3-uem\\venv\\lib\\site-packages (from torch) (3.4.2)\n",
      "Requirement already satisfied: jinja2 in c:\\users\\matko\\desktop\\uem\\proyecto grupal\\proyectogrupal-g3-uem\\venv\\lib\\site-packages (from torch) (3.1.5)\n",
      "Requirement already satisfied: fsspec in c:\\users\\matko\\desktop\\uem\\proyecto grupal\\proyectogrupal-g3-uem\\venv\\lib\\site-packages (from torch) (2024.12.0)\n",
      "Requirement already satisfied: setuptools in c:\\users\\matko\\desktop\\uem\\proyecto grupal\\proyectogrupal-g3-uem\\venv\\lib\\site-packages (from torch) (75.8.0)\n",
      "Requirement already satisfied: sympy==1.13.1 in c:\\users\\matko\\desktop\\uem\\proyecto grupal\\proyectogrupal-g3-uem\\venv\\lib\\site-packages (from torch) (1.13.1)\n",
      "Requirement already satisfied: mpmath<1.4,>=1.1.0 in c:\\users\\matko\\desktop\\uem\\proyecto grupal\\proyectogrupal-g3-uem\\venv\\lib\\site-packages (from sympy==1.13.1->torch) (1.3.0)\n",
      "Requirement already satisfied: numpy in c:\\users\\matko\\desktop\\uem\\proyecto grupal\\proyectogrupal-g3-uem\\venv\\lib\\site-packages (from torchvision) (2.2.2)\n",
      "Requirement already satisfied: pillow!=8.3.*,>=5.3.0 in c:\\users\\matko\\desktop\\uem\\proyecto grupal\\proyectogrupal-g3-uem\\venv\\lib\\site-packages (from torchvision) (10.4.0)\n",
      "INFO: pip is looking at multiple versions of torchaudio to determine which version is compatible with other requirements. This could take a while.\n",
      "  Downloading torchaudio-2.6.0-cp312-cp312-win_amd64.whl.metadata (6.7 kB)\n",
      "  Downloading https://download.pytorch.org/whl/cpu/torchaudio-2.5.1%2Bcpu-cp312-cp312-win_amd64.whl (2.4 MB)\n",
      "     ---------------------------------------- 0.0/2.4 MB ? eta -:--:--\n",
      "     ---------------------------------------- 2.4/2.4 MB 45.9 MB/s eta 0:00:00\n",
      "Requirement already satisfied: MarkupSafe>=2.0 in c:\\users\\matko\\desktop\\uem\\proyecto grupal\\proyectogrupal-g3-uem\\venv\\lib\\site-packages (from jinja2->torch) (3.0.2)\n",
      "Installing collected packages: torchaudio\n",
      "Successfully installed torchaudio-2.5.1+cpu\n"
     ]
    },
    {
     "name": "stderr",
     "output_type": "stream",
     "text": [
      "\n",
      "[notice] A new release of pip is available: 24.3.1 -> 25.0.1\n",
      "[notice] To update, run: python.exe -m pip install --upgrade pip\n"
     ]
    },
    {
     "name": "stdout",
     "output_type": "stream",
     "text": [
      "Collecting torch-directml\n",
      "  Downloading torch_directml-0.2.5.dev240914-cp312-cp312-win_amd64.whl.metadata (6.3 kB)\n",
      "Collecting torch==2.4.1 (from torch-directml)\n",
      "  Downloading torch-2.4.1-cp312-cp312-win_amd64.whl.metadata (27 kB)\n",
      "Collecting torchvision==0.19.1 (from torch-directml)\n",
      "  Downloading torchvision-0.19.1-cp312-cp312-win_amd64.whl.metadata (6.1 kB)\n",
      "Requirement already satisfied: filelock in c:\\users\\matko\\desktop\\uem\\proyecto grupal\\proyectogrupal-g3-uem\\venv\\lib\\site-packages (from torch==2.4.1->torch-directml) (3.17.0)\n",
      "Requirement already satisfied: typing-extensions>=4.8.0 in c:\\users\\matko\\desktop\\uem\\proyecto grupal\\proyectogrupal-g3-uem\\venv\\lib\\site-packages (from torch==2.4.1->torch-directml) (4.12.2)\n",
      "Requirement already satisfied: sympy in c:\\users\\matko\\desktop\\uem\\proyecto grupal\\proyectogrupal-g3-uem\\venv\\lib\\site-packages (from torch==2.4.1->torch-directml) (1.13.1)\n",
      "Requirement already satisfied: networkx in c:\\users\\matko\\desktop\\uem\\proyecto grupal\\proyectogrupal-g3-uem\\venv\\lib\\site-packages (from torch==2.4.1->torch-directml) (3.4.2)\n",
      "Requirement already satisfied: jinja2 in c:\\users\\matko\\desktop\\uem\\proyecto grupal\\proyectogrupal-g3-uem\\venv\\lib\\site-packages (from torch==2.4.1->torch-directml) (3.1.5)\n",
      "Requirement already satisfied: fsspec in c:\\users\\matko\\desktop\\uem\\proyecto grupal\\proyectogrupal-g3-uem\\venv\\lib\\site-packages (from torch==2.4.1->torch-directml) (2024.12.0)\n",
      "Requirement already satisfied: setuptools in c:\\users\\matko\\desktop\\uem\\proyecto grupal\\proyectogrupal-g3-uem\\venv\\lib\\site-packages (from torch==2.4.1->torch-directml) (75.8.0)\n",
      "Requirement already satisfied: numpy in c:\\users\\matko\\desktop\\uem\\proyecto grupal\\proyectogrupal-g3-uem\\venv\\lib\\site-packages (from torchvision==0.19.1->torch-directml) (2.2.2)\n",
      "Requirement already satisfied: pillow!=8.3.*,>=5.3.0 in c:\\users\\matko\\desktop\\uem\\proyecto grupal\\proyectogrupal-g3-uem\\venv\\lib\\site-packages (from torchvision==0.19.1->torch-directml) (10.4.0)\n",
      "Requirement already satisfied: MarkupSafe>=2.0 in c:\\users\\matko\\desktop\\uem\\proyecto grupal\\proyectogrupal-g3-uem\\venv\\lib\\site-packages (from jinja2->torch==2.4.1->torch-directml) (3.0.2)\n",
      "Requirement already satisfied: mpmath<1.4,>=1.1.0 in c:\\users\\matko\\desktop\\uem\\proyecto grupal\\proyectogrupal-g3-uem\\venv\\lib\\site-packages (from sympy->torch==2.4.1->torch-directml) (1.3.0)\n",
      "Downloading torch_directml-0.2.5.dev240914-cp312-cp312-win_amd64.whl (9.0 MB)\n",
      "   ---------------------------------------- 0.0/9.0 MB ? eta -:--:--\n",
      "   ------------------------------- -------- 7.1/9.0 MB 33.6 MB/s eta 0:00:01\n",
      "   ---------------------------------------- 9.0/9.0 MB 34.8 MB/s eta 0:00:00\n",
      "Downloading torch-2.4.1-cp312-cp312-win_amd64.whl (199.4 MB)\n",
      "   ---------------------------------------- 0.0/199.4 MB ? eta -:--:--\n",
      "   - -------------------------------------- 9.4/199.4 MB 49.1 MB/s eta 0:00:04\n",
      "   --- ------------------------------------ 19.7/199.4 MB 46.0 MB/s eta 0:00:04\n",
      "   ------ --------------------------------- 30.1/199.4 MB 47.8 MB/s eta 0:00:04\n",
      "   -------- ------------------------------- 40.4/199.4 MB 47.5 MB/s eta 0:00:04\n",
      "   --------- ------------------------------ 49.0/199.4 MB 45.9 MB/s eta 0:00:04\n",
      "   ----------- ---------------------------- 57.4/199.4 MB 45.1 MB/s eta 0:00:04\n",
      "   ------------ --------------------------- 63.4/199.4 MB 42.6 MB/s eta 0:00:04\n",
      "   -------------- ------------------------- 71.6/199.4 MB 41.9 MB/s eta 0:00:04\n",
      "   --------------- ------------------------ 76.5/199.4 MB 40.0 MB/s eta 0:00:04\n",
      "   ---------------- ----------------------- 83.6/199.4 MB 39.2 MB/s eta 0:00:03\n",
      "   ----------------- ---------------------- 89.4/199.4 MB 38.0 MB/s eta 0:00:03\n",
      "   ------------------- -------------------- 96.5/199.4 MB 37.6 MB/s eta 0:00:03\n",
      "   -------------------- ------------------ 103.8/199.4 MB 37.4 MB/s eta 0:00:03\n",
      "   --------------------- ----------------- 109.8/199.4 MB 36.7 MB/s eta 0:00:03\n",
      "   ---------------------- ---------------- 115.3/199.4 MB 35.9 MB/s eta 0:00:03\n",
      "   ----------------------- --------------- 120.1/199.4 MB 35.2 MB/s eta 0:00:03\n",
      "   ----------------------- --------------- 122.4/199.4 MB 33.8 MB/s eta 0:00:03\n",
      "   ------------------------ -------------- 124.3/199.4 MB 32.9 MB/s eta 0:00:03\n",
      "   ------------------------ -------------- 125.0/199.4 MB 31.0 MB/s eta 0:00:03\n",
      "   ------------------------ -------------- 126.1/199.4 MB 30.5 MB/s eta 0:00:03\n",
      "   ------------------------- ------------- 129.2/199.4 MB 28.9 MB/s eta 0:00:03\n",
      "   ------------------------- ------------- 132.4/199.4 MB 28.2 MB/s eta 0:00:03\n",
      "   -------------------------- ------------ 137.1/199.4 MB 28.0 MB/s eta 0:00:03\n",
      "   --------------------------- ----------- 142.1/199.4 MB 27.8 MB/s eta 0:00:03\n",
      "   ---------------------------- ---------- 147.8/199.4 MB 27.8 MB/s eta 0:00:02\n",
      "   ------------------------------ -------- 154.1/199.4 MB 27.8 MB/s eta 0:00:02\n",
      "   ------------------------------- ------- 160.4/199.4 MB 27.9 MB/s eta 0:00:02\n",
      "   -------------------------------- ------ 167.0/199.4 MB 27.9 MB/s eta 0:00:02\n",
      "   --------------------------------- ----- 173.3/199.4 MB 28.0 MB/s eta 0:00:01\n",
      "   ----------------------------------- --- 180.1/199.4 MB 28.1 MB/s eta 0:00:01\n",
      "   ------------------------------------ -- 188.0/199.4 MB 28.5 MB/s eta 0:00:01\n",
      "   --------------------------------------  196.1/199.4 MB 28.7 MB/s eta 0:00:01\n",
      "   --------------------------------------  199.2/199.4 MB 28.9 MB/s eta 0:00:01\n",
      "   --------------------------------------- 199.4/199.4 MB 28.0 MB/s eta 0:00:00\n",
      "Downloading torchvision-0.19.1-cp312-cp312-win_amd64.whl (1.3 MB)\n",
      "   ---------------------------------------- 0.0/1.3 MB ? eta -:--:--\n",
      "   ---------------------------------------- 1.3/1.3 MB 33.1 MB/s eta 0:00:00\n",
      "Installing collected packages: torch, torchvision, torch-directml\n",
      "  Attempting uninstall: torch\n",
      "    Found existing installation: torch 2.5.1\n",
      "    Uninstalling torch-2.5.1:\n",
      "      Successfully uninstalled torch-2.5.1\n",
      "  Attempting uninstall: torchvision\n",
      "    Found existing installation: torchvision 0.20.1\n",
      "    Uninstalling torchvision-0.20.1:\n",
      "      Successfully uninstalled torchvision-0.20.1\n",
      "Successfully installed torch-2.4.1 torch-directml-0.2.5.dev240914 torchvision-0.19.1\n"
     ]
    },
    {
     "name": "stderr",
     "output_type": "stream",
     "text": [
      "  WARNING: Failed to remove contents in a temporary directory 'C:\\Users\\Matko\\Desktop\\UEM\\Proyecto Grupal\\ProyectoGrupal-G3-UEM\\venv\\Lib\\site-packages\\~orch'.\n",
      "  You can safely remove it manually.\n",
      "ERROR: pip's dependency resolver does not currently take into account all the packages that are installed. This behaviour is the source of the following dependency conflicts.\n",
      "torchaudio 2.5.1+cpu requires torch==2.5.1, but you have torch 2.4.1 which is incompatible.\n",
      "\n",
      "[notice] A new release of pip is available: 24.3.1 -> 25.0.1\n",
      "[notice] To update, run: python.exe -m pip install --upgrade pip\n"
     ]
    }
   ],
   "source": [
    "!pip install torch torchvision torchaudio --extra-index-url https://download.pytorch.org/whl/cpu\n",
    "!pip install torch-directml\n"
   ]
  },
  {
   "cell_type": "code",
   "execution_count": 12,
   "metadata": {},
   "outputs": [
    {
     "ename": "RuntimeError",
     "evalue": "Expected one of cpu, cuda, ipu, xpu, mkldnn, opengl, opencl, ideep, hip, ve, fpga, maia, xla, lazy, vulkan, mps, meta, hpu, mtia, privateuseone device type at start of device string: dml",
     "output_type": "error",
     "traceback": [
      "\u001b[1;31m---------------------------------------------------------------------------\u001b[0m",
      "\u001b[1;31mRuntimeError\u001b[0m                              Traceback (most recent call last)",
      "Cell \u001b[1;32mIn[12], line 4\u001b[0m\n\u001b[0;32m      1\u001b[0m \u001b[38;5;28;01mimport\u001b[39;00m\u001b[38;5;250m \u001b[39m\u001b[38;5;21;01mtorch\u001b[39;00m\n\u001b[0;32m      3\u001b[0m \u001b[38;5;66;03m# Verificar si DirectML está disponible\u001b[39;00m\n\u001b[1;32m----> 4\u001b[0m device \u001b[38;5;241m=\u001b[39m \u001b[43mtorch\u001b[49m\u001b[38;5;241;43m.\u001b[39;49m\u001b[43mdevice\u001b[49m\u001b[43m(\u001b[49m\u001b[38;5;124;43m\"\u001b[39;49m\u001b[38;5;124;43mdml\u001b[39;49m\u001b[38;5;124;43m\"\u001b[39;49m\u001b[43m)\u001b[49m\n\u001b[0;32m      6\u001b[0m \u001b[38;5;28mprint\u001b[39m(\u001b[38;5;124m\"\u001b[39m\u001b[38;5;124mDispositivo utilizado:\u001b[39m\u001b[38;5;124m\"\u001b[39m, device)\n\u001b[0;32m      8\u001b[0m \u001b[38;5;66;03m# Probar si puedes crear un tensor en la GPU usando DirectML\u001b[39;00m\n",
      "\u001b[1;31mRuntimeError\u001b[0m: Expected one of cpu, cuda, ipu, xpu, mkldnn, opengl, opencl, ideep, hip, ve, fpga, maia, xla, lazy, vulkan, mps, meta, hpu, mtia, privateuseone device type at start of device string: dml"
     ]
    }
   ],
   "source": [
    "import torch\n",
    "\n",
    "# Verificar si DirectML está disponible\n",
    "device = torch.device(\"dml\")\n",
    "\n",
    "print(\"Dispositivo utilizado:\", device)\n",
    "\n",
    "# Probar si puedes crear un tensor en la GPU usando DirectML\n",
    "try:\n",
    "    x = torch.rand(5, 5, device=device)\n",
    "    print(\"Tensor creado en la GPU:\", x)\n",
    "except Exception as e:\n",
    "    print(\"Error al crear tensor en la GPU:\", e)\n",
    "\n",
    "\n",
    "\n"
   ]
  },
  {
   "cell_type": "code",
   "execution_count": 13,
   "metadata": {},
   "outputs": [
    {
     "name": "stdout",
     "output_type": "stream",
     "text": [
      "New https://pypi.org/project/ultralytics/8.3.75 available  Update with 'pip install -U ultralytics'\n",
      "Ultralytics 8.3.67  Python-3.12.1 torch-2.5.1+cpu CPU (AMD Ryzen 5 5600X 6-Core Processor)\n",
      "\u001b[34m\u001b[1mengine\\trainer: \u001b[0mtask=detect, mode=train, model=yolo11s.pt, data=UEM-Grupal-1/data.yaml, epochs=50, time=None, patience=100, batch=4, imgsz=640, save=True, save_period=-1, cache=False, device=cpu, workers=8, project=None, name=train, exist_ok=False, pretrained=True, optimizer=auto, verbose=True, seed=0, deterministic=True, single_cls=False, rect=False, cos_lr=False, close_mosaic=10, resume=False, amp=True, fraction=1.0, profile=False, freeze=None, multi_scale=False, overlap_mask=True, mask_ratio=4, dropout=0.0, val=True, split=val, save_json=False, save_hybrid=False, conf=None, iou=0.7, max_det=300, half=False, dnn=False, plots=True, source=None, vid_stride=1, stream_buffer=False, visualize=False, augment=False, agnostic_nms=False, classes=None, retina_masks=False, embed=None, show=False, save_frames=False, save_txt=False, save_conf=False, save_crop=False, show_labels=True, show_conf=True, show_boxes=True, line_width=None, format=torchscript, keras=False, optimize=False, int8=False, dynamic=False, simplify=True, opset=None, workspace=None, nms=False, lr0=0.01, lrf=0.01, momentum=0.937, weight_decay=0.0005, warmup_epochs=3.0, warmup_momentum=0.8, warmup_bias_lr=0.1, box=7.5, cls=0.5, dfl=1.5, pose=12.0, kobj=1.0, nbs=64, hsv_h=0.015, hsv_s=0.7, hsv_v=0.4, degrees=0.0, translate=0.1, scale=0.5, shear=0.0, perspective=0.0, flipud=0.0, fliplr=0.5, bgr=0.0, mosaic=1.0, mixup=0.0, copy_paste=0.0, copy_paste_mode=flip, auto_augment=randaugment, erasing=0.4, crop_fraction=1.0, cfg=None, tracker=botsort.yaml, save_dir=C:\\Users\\Matko\\Desktop\\UEM\\Proyecto Grupal\\ProyectoGrupal-G3-UEM\\runs\\detect\\train\n",
      "Downloading https://ultralytics.com/assets/Arial.ttf to 'C:\\Users\\Matko\\AppData\\Roaming\\Ultralytics\\Arial.ttf'...\n"
     ]
    },
    {
     "name": "stderr",
     "output_type": "stream",
     "text": [
      "100%|██████████| 755k/755k [00:00<00:00, 25.6MB/s]"
     ]
    },
    {
     "name": "stdout",
     "output_type": "stream",
     "text": [
      "Overriding model.yaml nc=80 with nc=2\n",
      "\n",
      "                   from  n    params  module                                       arguments                     \n",
      "  0                  -1  1       928  ultralytics.nn.modules.conv.Conv             [3, 32, 3, 2]                 \n",
      "  1                  -1  1     18560  ultralytics.nn.modules.conv.Conv             [32, 64, 3, 2]                \n",
      "  2                  -1  1     26080  ultralytics.nn.modules.block.C3k2            [64, 128, 1, False, 0.25]     \n",
      "  3                  -1  1    147712  ultralytics.nn.modules.conv.Conv             [128, 128, 3, 2]              \n",
      "  4                  -1  1    103360  ultralytics.nn.modules.block.C3k2            [128, 256, 1, False, 0.25]    \n",
      "  5                  -1  1    590336  ultralytics.nn.modules.conv.Conv             [256, 256, 3, 2]              \n",
      "  6                  -1  1    346112  ultralytics.nn.modules.block.C3k2            [256, 256, 1, True]           \n",
      "  7                  -1  1   1180672  ultralytics.nn.modules.conv.Conv             [256, 512, 3, 2]              \n",
      "  8                  -1  1   1380352  ultralytics.nn.modules.block.C3k2            [512, 512, 1, True]           \n",
      "  9                  -1  1    656896  ultralytics.nn.modules.block.SPPF            [512, 512, 5]                 \n",
      " 10                  -1  1    990976  ultralytics.nn.modules.block.C2PSA           [512, 512, 1]                 \n",
      " 11                  -1  1         0  torch.nn.modules.upsampling.Upsample         [None, 2, 'nearest']          \n",
      " 12             [-1, 6]  1         0  ultralytics.nn.modules.conv.Concat           [1]                           \n",
      " 13                  -1  1    443776  ultralytics.nn.modules.block.C3k2            [768, 256, 1, False]          \n",
      " 14                  -1  1         0  torch.nn.modules.upsampling.Upsample         [None, 2, 'nearest']          \n",
      " 15             [-1, 4]  1         0  ultralytics.nn.modules.conv.Concat           [1]                           \n",
      " 16                  -1  1    127680  ultralytics.nn.modules.block.C3k2            [512, 128, 1, False]          \n",
      " 17                  -1  1    147712  ultralytics.nn.modules.conv.Conv             [128, 128, 3, 2]              \n",
      " 18            [-1, 13]  1         0  ultralytics.nn.modules.conv.Concat           [1]                           \n"
     ]
    },
    {
     "name": "stderr",
     "output_type": "stream",
     "text": [
      "\n"
     ]
    },
    {
     "name": "stdout",
     "output_type": "stream",
     "text": [
      " 19                  -1  1    345472  ultralytics.nn.modules.block.C3k2            [384, 256, 1, False]          \n",
      " 20                  -1  1    590336  ultralytics.nn.modules.conv.Conv             [256, 256, 3, 2]              \n",
      " 21            [-1, 10]  1         0  ultralytics.nn.modules.conv.Concat           [1]                           \n",
      " 22                  -1  1   1511424  ultralytics.nn.modules.block.C3k2            [768, 512, 1, True]           \n",
      " 23        [16, 19, 22]  1    820182  ultralytics.nn.modules.head.Detect           [2, [128, 256, 512]]          \n",
      "YOLO11s summary: 319 layers, 9,428,566 parameters, 9,428,550 gradients, 21.6 GFLOPs\n",
      "\n",
      "Transferred 493/499 items from pretrained weights\n",
      "Freezing layer 'model.23.dfl.conv.weight'\n"
     ]
    },
    {
     "name": "stderr",
     "output_type": "stream",
     "text": [
      "\u001b[34m\u001b[1mtrain: \u001b[0mScanning C:\\Users\\Matko\\Desktop\\UEM\\Proyecto Grupal\\ProyectoGrupal-G3-UEM\\UEM-Grupal-1\\train\\labels... 102 images, 14 backgrounds, 0 corrupt: 100%|██████████| 102/102 [00:00<00:00, 821.31it/s]"
     ]
    },
    {
     "name": "stdout",
     "output_type": "stream",
     "text": [
      "\u001b[34m\u001b[1mtrain: \u001b[0mNew cache created: C:\\Users\\Matko\\Desktop\\UEM\\Proyecto Grupal\\ProyectoGrupal-G3-UEM\\UEM-Grupal-1\\train\\labels.cache\n"
     ]
    },
    {
     "name": "stderr",
     "output_type": "stream",
     "text": [
      "\n",
      "\u001b[34m\u001b[1mval: \u001b[0mScanning C:\\Users\\Matko\\Desktop\\UEM\\Proyecto Grupal\\ProyectoGrupal-G3-UEM\\UEM-Grupal-1\\valid\\labels... 33 images, 6 backgrounds, 0 corrupt: 100%|██████████| 33/33 [00:00<00:00, 1918.74it/s]\n"
     ]
    },
    {
     "name": "stdout",
     "output_type": "stream",
     "text": [
      "\u001b[34m\u001b[1mval: \u001b[0mNew cache created: C:\\Users\\Matko\\Desktop\\UEM\\Proyecto Grupal\\ProyectoGrupal-G3-UEM\\UEM-Grupal-1\\valid\\labels.cache\n",
      "Plotting labels to C:\\Users\\Matko\\Desktop\\UEM\\Proyecto Grupal\\ProyectoGrupal-G3-UEM\\runs\\detect\\train\\labels.jpg... \n",
      "\u001b[34m\u001b[1moptimizer:\u001b[0m 'optimizer=auto' found, ignoring 'lr0=0.01' and 'momentum=0.937' and determining best 'optimizer', 'lr0' and 'momentum' automatically... \n"
     ]
    },
    {
     "ename": "AttributeError",
     "evalue": "type object 'GuardSource' has no attribute 'LOCAL_NN_MODULE'",
     "output_type": "error",
     "traceback": [
      "\u001b[1;31m---------------------------------------------------------------------------\u001b[0m",
      "\u001b[1;31mAttributeError\u001b[0m                            Traceback (most recent call last)",
      "Cell \u001b[1;32mIn[13], line 2\u001b[0m\n\u001b[0;32m      1\u001b[0m \u001b[38;5;66;03m# Entrenar\u001b[39;00m\n\u001b[1;32m----> 2\u001b[0m results \u001b[38;5;241m=\u001b[39m \u001b[43mmodel\u001b[49m\u001b[38;5;241;43m.\u001b[39;49m\u001b[43mtrain\u001b[49m\u001b[43m(\u001b[49m\u001b[43mdata\u001b[49m\u001b[38;5;241;43m=\u001b[39;49m\u001b[38;5;124;43m\"\u001b[39;49m\u001b[38;5;124;43mUEM-Grupal-1/data.yaml\u001b[39;49m\u001b[38;5;124;43m\"\u001b[39;49m\u001b[43m,\u001b[49m\u001b[43m \u001b[49m\u001b[43mepochs\u001b[49m\u001b[38;5;241;43m=\u001b[39;49m\u001b[38;5;241;43m50\u001b[39;49m\u001b[43m,\u001b[49m\u001b[43m \u001b[49m\u001b[43mimgsz\u001b[49m\u001b[38;5;241;43m=\u001b[39;49m\u001b[38;5;241;43m640\u001b[39;49m\u001b[43m,\u001b[49m\u001b[43m \u001b[49m\u001b[43mbatch\u001b[49m\u001b[38;5;241;43m=\u001b[39;49m\u001b[38;5;241;43m4\u001b[39;49m\u001b[43m,\u001b[49m\u001b[43m \u001b[49m\u001b[43mdevice\u001b[49m\u001b[38;5;241;43m=\u001b[39;49m\u001b[38;5;124;43m\"\u001b[39;49m\u001b[38;5;124;43mcpu\u001b[39;49m\u001b[38;5;124;43m\"\u001b[39;49m\u001b[43m)\u001b[49m\n",
      "File \u001b[1;32mc:\\Users\\Matko\\Desktop\\UEM\\Proyecto Grupal\\ProyectoGrupal-G3-UEM\\venv\\Lib\\site-packages\\ultralytics\\engine\\model.py:806\u001b[0m, in \u001b[0;36mModel.train\u001b[1;34m(self, trainer, **kwargs)\u001b[0m\n\u001b[0;32m    803\u001b[0m     \u001b[38;5;28mself\u001b[39m\u001b[38;5;241m.\u001b[39mmodel \u001b[38;5;241m=\u001b[39m \u001b[38;5;28mself\u001b[39m\u001b[38;5;241m.\u001b[39mtrainer\u001b[38;5;241m.\u001b[39mmodel\n\u001b[0;32m    805\u001b[0m \u001b[38;5;28mself\u001b[39m\u001b[38;5;241m.\u001b[39mtrainer\u001b[38;5;241m.\u001b[39mhub_session \u001b[38;5;241m=\u001b[39m \u001b[38;5;28mself\u001b[39m\u001b[38;5;241m.\u001b[39msession  \u001b[38;5;66;03m# attach optional HUB session\u001b[39;00m\n\u001b[1;32m--> 806\u001b[0m \u001b[38;5;28;43mself\u001b[39;49m\u001b[38;5;241;43m.\u001b[39;49m\u001b[43mtrainer\u001b[49m\u001b[38;5;241;43m.\u001b[39;49m\u001b[43mtrain\u001b[49m\u001b[43m(\u001b[49m\u001b[43m)\u001b[49m\n\u001b[0;32m    807\u001b[0m \u001b[38;5;66;03m# Update model and cfg after training\u001b[39;00m\n\u001b[0;32m    808\u001b[0m \u001b[38;5;28;01mif\u001b[39;00m RANK \u001b[38;5;129;01min\u001b[39;00m {\u001b[38;5;241m-\u001b[39m\u001b[38;5;241m1\u001b[39m, \u001b[38;5;241m0\u001b[39m}:\n",
      "File \u001b[1;32mc:\\Users\\Matko\\Desktop\\UEM\\Proyecto Grupal\\ProyectoGrupal-G3-UEM\\venv\\Lib\\site-packages\\ultralytics\\engine\\trainer.py:207\u001b[0m, in \u001b[0;36mBaseTrainer.train\u001b[1;34m(self)\u001b[0m\n\u001b[0;32m    204\u001b[0m         ddp_cleanup(\u001b[38;5;28mself\u001b[39m, \u001b[38;5;28mstr\u001b[39m(file))\n\u001b[0;32m    206\u001b[0m \u001b[38;5;28;01melse\u001b[39;00m:\n\u001b[1;32m--> 207\u001b[0m     \u001b[38;5;28;43mself\u001b[39;49m\u001b[38;5;241;43m.\u001b[39;49m\u001b[43m_do_train\u001b[49m\u001b[43m(\u001b[49m\u001b[43mworld_size\u001b[49m\u001b[43m)\u001b[49m\n",
      "File \u001b[1;32mc:\\Users\\Matko\\Desktop\\UEM\\Proyecto Grupal\\ProyectoGrupal-G3-UEM\\venv\\Lib\\site-packages\\ultralytics\\engine\\trainer.py:322\u001b[0m, in \u001b[0;36mBaseTrainer._do_train\u001b[1;34m(self, world_size)\u001b[0m\n\u001b[0;32m    320\u001b[0m \u001b[38;5;28;01mif\u001b[39;00m world_size \u001b[38;5;241m>\u001b[39m \u001b[38;5;241m1\u001b[39m:\n\u001b[0;32m    321\u001b[0m     \u001b[38;5;28mself\u001b[39m\u001b[38;5;241m.\u001b[39m_setup_ddp(world_size)\n\u001b[1;32m--> 322\u001b[0m \u001b[38;5;28;43mself\u001b[39;49m\u001b[38;5;241;43m.\u001b[39;49m\u001b[43m_setup_train\u001b[49m\u001b[43m(\u001b[49m\u001b[43mworld_size\u001b[49m\u001b[43m)\u001b[49m\n\u001b[0;32m    324\u001b[0m nb \u001b[38;5;241m=\u001b[39m \u001b[38;5;28mlen\u001b[39m(\u001b[38;5;28mself\u001b[39m\u001b[38;5;241m.\u001b[39mtrain_loader)  \u001b[38;5;66;03m# number of batches\u001b[39;00m\n\u001b[0;32m    325\u001b[0m nw \u001b[38;5;241m=\u001b[39m \u001b[38;5;28mmax\u001b[39m(\u001b[38;5;28mround\u001b[39m(\u001b[38;5;28mself\u001b[39m\u001b[38;5;241m.\u001b[39margs\u001b[38;5;241m.\u001b[39mwarmup_epochs \u001b[38;5;241m*\u001b[39m nb), \u001b[38;5;241m100\u001b[39m) \u001b[38;5;28;01mif\u001b[39;00m \u001b[38;5;28mself\u001b[39m\u001b[38;5;241m.\u001b[39margs\u001b[38;5;241m.\u001b[39mwarmup_epochs \u001b[38;5;241m>\u001b[39m \u001b[38;5;241m0\u001b[39m \u001b[38;5;28;01melse\u001b[39;00m \u001b[38;5;241m-\u001b[39m\u001b[38;5;241m1\u001b[39m  \u001b[38;5;66;03m# warmup iterations\u001b[39;00m\n",
      "File \u001b[1;32mc:\\Users\\Matko\\Desktop\\UEM\\Proyecto Grupal\\ProyectoGrupal-G3-UEM\\venv\\Lib\\site-packages\\ultralytics\\engine\\trainer.py:303\u001b[0m, in \u001b[0;36mBaseTrainer._setup_train\u001b[1;34m(self, world_size)\u001b[0m\n\u001b[0;32m    301\u001b[0m weight_decay \u001b[38;5;241m=\u001b[39m \u001b[38;5;28mself\u001b[39m\u001b[38;5;241m.\u001b[39margs\u001b[38;5;241m.\u001b[39mweight_decay \u001b[38;5;241m*\u001b[39m \u001b[38;5;28mself\u001b[39m\u001b[38;5;241m.\u001b[39mbatch_size \u001b[38;5;241m*\u001b[39m \u001b[38;5;28mself\u001b[39m\u001b[38;5;241m.\u001b[39maccumulate \u001b[38;5;241m/\u001b[39m \u001b[38;5;28mself\u001b[39m\u001b[38;5;241m.\u001b[39margs\u001b[38;5;241m.\u001b[39mnbs  \u001b[38;5;66;03m# scale weight_decay\u001b[39;00m\n\u001b[0;32m    302\u001b[0m iterations \u001b[38;5;241m=\u001b[39m math\u001b[38;5;241m.\u001b[39mceil(\u001b[38;5;28mlen\u001b[39m(\u001b[38;5;28mself\u001b[39m\u001b[38;5;241m.\u001b[39mtrain_loader\u001b[38;5;241m.\u001b[39mdataset) \u001b[38;5;241m/\u001b[39m \u001b[38;5;28mmax\u001b[39m(\u001b[38;5;28mself\u001b[39m\u001b[38;5;241m.\u001b[39mbatch_size, \u001b[38;5;28mself\u001b[39m\u001b[38;5;241m.\u001b[39margs\u001b[38;5;241m.\u001b[39mnbs)) \u001b[38;5;241m*\u001b[39m \u001b[38;5;28mself\u001b[39m\u001b[38;5;241m.\u001b[39mepochs\n\u001b[1;32m--> 303\u001b[0m \u001b[38;5;28mself\u001b[39m\u001b[38;5;241m.\u001b[39moptimizer \u001b[38;5;241m=\u001b[39m \u001b[38;5;28;43mself\u001b[39;49m\u001b[38;5;241;43m.\u001b[39;49m\u001b[43mbuild_optimizer\u001b[49m\u001b[43m(\u001b[49m\n\u001b[0;32m    304\u001b[0m \u001b[43m    \u001b[49m\u001b[43mmodel\u001b[49m\u001b[38;5;241;43m=\u001b[39;49m\u001b[38;5;28;43mself\u001b[39;49m\u001b[38;5;241;43m.\u001b[39;49m\u001b[43mmodel\u001b[49m\u001b[43m,\u001b[49m\n\u001b[0;32m    305\u001b[0m \u001b[43m    \u001b[49m\u001b[43mname\u001b[49m\u001b[38;5;241;43m=\u001b[39;49m\u001b[38;5;28;43mself\u001b[39;49m\u001b[38;5;241;43m.\u001b[39;49m\u001b[43margs\u001b[49m\u001b[38;5;241;43m.\u001b[39;49m\u001b[43moptimizer\u001b[49m\u001b[43m,\u001b[49m\n\u001b[0;32m    306\u001b[0m \u001b[43m    \u001b[49m\u001b[43mlr\u001b[49m\u001b[38;5;241;43m=\u001b[39;49m\u001b[38;5;28;43mself\u001b[39;49m\u001b[38;5;241;43m.\u001b[39;49m\u001b[43margs\u001b[49m\u001b[38;5;241;43m.\u001b[39;49m\u001b[43mlr0\u001b[49m\u001b[43m,\u001b[49m\n\u001b[0;32m    307\u001b[0m \u001b[43m    \u001b[49m\u001b[43mmomentum\u001b[49m\u001b[38;5;241;43m=\u001b[39;49m\u001b[38;5;28;43mself\u001b[39;49m\u001b[38;5;241;43m.\u001b[39;49m\u001b[43margs\u001b[49m\u001b[38;5;241;43m.\u001b[39;49m\u001b[43mmomentum\u001b[49m\u001b[43m,\u001b[49m\n\u001b[0;32m    308\u001b[0m \u001b[43m    \u001b[49m\u001b[43mdecay\u001b[49m\u001b[38;5;241;43m=\u001b[39;49m\u001b[43mweight_decay\u001b[49m\u001b[43m,\u001b[49m\n\u001b[0;32m    309\u001b[0m \u001b[43m    \u001b[49m\u001b[43miterations\u001b[49m\u001b[38;5;241;43m=\u001b[39;49m\u001b[43miterations\u001b[49m\u001b[43m,\u001b[49m\n\u001b[0;32m    310\u001b[0m \u001b[43m\u001b[49m\u001b[43m)\u001b[49m\n\u001b[0;32m    311\u001b[0m \u001b[38;5;66;03m# Scheduler\u001b[39;00m\n\u001b[0;32m    312\u001b[0m \u001b[38;5;28mself\u001b[39m\u001b[38;5;241m.\u001b[39m_setup_scheduler()\n",
      "File \u001b[1;32mc:\\Users\\Matko\\Desktop\\UEM\\Proyecto Grupal\\ProyectoGrupal-G3-UEM\\venv\\Lib\\site-packages\\ultralytics\\engine\\trainer.py:802\u001b[0m, in \u001b[0;36mBaseTrainer.build_optimizer\u001b[1;34m(self, model, name, lr, momentum, decay, iterations)\u001b[0m\n\u001b[0;32m    800\u001b[0m name \u001b[38;5;241m=\u001b[39m {x\u001b[38;5;241m.\u001b[39mlower(): x \u001b[38;5;28;01mfor\u001b[39;00m x \u001b[38;5;129;01min\u001b[39;00m optimizers}\u001b[38;5;241m.\u001b[39mget(name\u001b[38;5;241m.\u001b[39mlower())\n\u001b[0;32m    801\u001b[0m \u001b[38;5;28;01mif\u001b[39;00m name \u001b[38;5;129;01min\u001b[39;00m {\u001b[38;5;124m\"\u001b[39m\u001b[38;5;124mAdam\u001b[39m\u001b[38;5;124m\"\u001b[39m, \u001b[38;5;124m\"\u001b[39m\u001b[38;5;124mAdamax\u001b[39m\u001b[38;5;124m\"\u001b[39m, \u001b[38;5;124m\"\u001b[39m\u001b[38;5;124mAdamW\u001b[39m\u001b[38;5;124m\"\u001b[39m, \u001b[38;5;124m\"\u001b[39m\u001b[38;5;124mNAdam\u001b[39m\u001b[38;5;124m\"\u001b[39m, \u001b[38;5;124m\"\u001b[39m\u001b[38;5;124mRAdam\u001b[39m\u001b[38;5;124m\"\u001b[39m}:\n\u001b[1;32m--> 802\u001b[0m     optimizer \u001b[38;5;241m=\u001b[39m \u001b[38;5;28;43mgetattr\u001b[39;49m\u001b[43m(\u001b[49m\u001b[43moptim\u001b[49m\u001b[43m,\u001b[49m\u001b[43m \u001b[49m\u001b[43mname\u001b[49m\u001b[43m,\u001b[49m\u001b[43m \u001b[49m\u001b[43moptim\u001b[49m\u001b[38;5;241;43m.\u001b[39;49m\u001b[43mAdam\u001b[49m\u001b[43m)\u001b[49m\u001b[43m(\u001b[49m\u001b[43mg\u001b[49m\u001b[43m[\u001b[49m\u001b[38;5;241;43m2\u001b[39;49m\u001b[43m]\u001b[49m\u001b[43m,\u001b[49m\u001b[43m \u001b[49m\u001b[43mlr\u001b[49m\u001b[38;5;241;43m=\u001b[39;49m\u001b[43mlr\u001b[49m\u001b[43m,\u001b[49m\u001b[43m \u001b[49m\u001b[43mbetas\u001b[49m\u001b[38;5;241;43m=\u001b[39;49m\u001b[43m(\u001b[49m\u001b[43mmomentum\u001b[49m\u001b[43m,\u001b[49m\u001b[43m \u001b[49m\u001b[38;5;241;43m0.999\u001b[39;49m\u001b[43m)\u001b[49m\u001b[43m,\u001b[49m\u001b[43m \u001b[49m\u001b[43mweight_decay\u001b[49m\u001b[38;5;241;43m=\u001b[39;49m\u001b[38;5;241;43m0.0\u001b[39;49m\u001b[43m)\u001b[49m\n\u001b[0;32m    803\u001b[0m \u001b[38;5;28;01melif\u001b[39;00m name \u001b[38;5;241m==\u001b[39m \u001b[38;5;124m\"\u001b[39m\u001b[38;5;124mRMSProp\u001b[39m\u001b[38;5;124m\"\u001b[39m:\n\u001b[0;32m    804\u001b[0m     optimizer \u001b[38;5;241m=\u001b[39m optim\u001b[38;5;241m.\u001b[39mRMSprop(g[\u001b[38;5;241m2\u001b[39m], lr\u001b[38;5;241m=\u001b[39mlr, momentum\u001b[38;5;241m=\u001b[39mmomentum)\n",
      "File \u001b[1;32mc:\\Users\\Matko\\Desktop\\UEM\\Proyecto Grupal\\ProyectoGrupal-G3-UEM\\venv\\Lib\\site-packages\\torch\\optim\\adamw.py:77\u001b[0m, in \u001b[0;36m__init__\u001b[1;34m(self, params, lr, betas, eps, weight_decay, amsgrad, maximize, foreach, capturable, differentiable, fused)\u001b[0m\n\u001b[0;32m     75\u001b[0m \u001b[38;5;28;01mif\u001b[39;00m differentiable:\n\u001b[0;32m     76\u001b[0m     \u001b[38;5;28;01mraise\u001b[39;00m \u001b[38;5;167;01mRuntimeError\u001b[39;00m(\u001b[38;5;124m\"\u001b[39m\u001b[38;5;124m`fused` does not support `differentiable`\u001b[39m\u001b[38;5;124m\"\u001b[39m)\n\u001b[1;32m---> 77\u001b[0m \u001b[38;5;28mself\u001b[39m\u001b[38;5;241m.\u001b[39m_step_supports_amp_scaling \u001b[38;5;241m=\u001b[39m \u001b[38;5;28;01mTrue\u001b[39;00m\n\u001b[0;32m     78\u001b[0m \u001b[38;5;66;03m# TODO(crcrpar): [low prec params & their higher prec copy]\u001b[39;00m\n\u001b[0;32m     79\u001b[0m \u001b[38;5;66;03m# Suppor AMP with FP16/BF16 model params which would need\u001b[39;00m\n\u001b[0;32m     80\u001b[0m \u001b[38;5;66;03m# higher prec copy of params to do update math in higher prec to\u001b[39;00m\n\u001b[0;32m     81\u001b[0m \u001b[38;5;66;03m# alleviate the loss of information.\u001b[39;00m\n\u001b[0;32m     82\u001b[0m fused_supported_devices \u001b[38;5;241m=\u001b[39m _get_fused_kernels_supported_devices()\n",
      "File \u001b[1;32mc:\\Users\\Matko\\Desktop\\UEM\\Proyecto Grupal\\ProyectoGrupal-G3-UEM\\venv\\Lib\\site-packages\\torch\\optim\\optimizer.py:371\u001b[0m, in \u001b[0;36m__init__\u001b[1;34m(self, params, defaults)\u001b[0m\n\u001b[0;32m    366\u001b[0m     for param_group in param_groups:\n\u001b[0;32m    367\u001b[0m         self.add_param_group(cast(dict, param_group))\n\u001b[0;32m    369\u001b[0m     # Allows _cuda_graph_capture_health_check to rig a poor man's TORCH_WARN_ONCE in python,\n\u001b[0;32m    370\u001b[0m     # which I don't think exists\n\u001b[1;32m--> 371\u001b[0m     # https://github.com/pytorch/pytorch/issues/72948\n\u001b[0;32m    372\u001b[0m     self._warned_capturable_if_run_uncaptured = True\n\u001b[0;32m    374\u001b[0m def __getstate__(self) -> Dict[str, Any]:\n",
      "File \u001b[1;32mc:\\Users\\Matko\\Desktop\\UEM\\Proyecto Grupal\\ProyectoGrupal-G3-UEM\\venv\\Lib\\site-packages\\torch\\_compile.py:27\u001b[0m, in \u001b[0;36minner\u001b[1;34m(*args, **kwargs)\u001b[0m\n\u001b[0;32m      0\u001b[0m <Error retrieving source code with stack_data see ipython/ipython#13598>\n",
      "File \u001b[1;32mc:\\Users\\Matko\\Desktop\\UEM\\Proyecto Grupal\\ProyectoGrupal-G3-UEM\\venv\\Lib\\site-packages\\torch\\_dynamo\\__init__.py:2\u001b[0m\n\u001b[0;32m      1\u001b[0m \u001b[38;5;28;01mimport\u001b[39;00m\u001b[38;5;250m \u001b[39m\u001b[38;5;21;01mtorch\u001b[39;00m\n\u001b[1;32m----> 2\u001b[0m \u001b[38;5;28;01mfrom\u001b[39;00m\u001b[38;5;250m \u001b[39m\u001b[38;5;21;01m.\u001b[39;00m\u001b[38;5;250m \u001b[39m\u001b[38;5;28;01mimport\u001b[39;00m convert_frame, eval_frame, resume_execution\n\u001b[0;32m      3\u001b[0m \u001b[38;5;28;01mfrom\u001b[39;00m\u001b[38;5;250m \u001b[39m\u001b[38;5;21;01m.\u001b[39;00m\u001b[38;5;21;01mbackends\u001b[39;00m\u001b[38;5;21;01m.\u001b[39;00m\u001b[38;5;21;01mregistry\u001b[39;00m\u001b[38;5;250m \u001b[39m\u001b[38;5;28;01mimport\u001b[39;00m list_backends, lookup_backend, register_backend\n\u001b[0;32m      4\u001b[0m \u001b[38;5;28;01mfrom\u001b[39;00m\u001b[38;5;250m \u001b[39m\u001b[38;5;21;01m.\u001b[39;00m\u001b[38;5;21;01mcallback\u001b[39;00m\u001b[38;5;250m \u001b[39m\u001b[38;5;28;01mimport\u001b[39;00m callback_handler, on_compile_end, on_compile_start\n",
      "File \u001b[1;32mc:\\Users\\Matko\\Desktop\\UEM\\Proyecto Grupal\\ProyectoGrupal-G3-UEM\\venv\\Lib\\site-packages\\torch\\_dynamo\\convert_frame.py:48\u001b[0m\n\u001b[0;32m     45\u001b[0m \u001b[38;5;28;01mfrom\u001b[39;00m\u001b[38;5;250m \u001b[39m\u001b[38;5;21;01mtorch\u001b[39;00m\u001b[38;5;21;01m.\u001b[39;00m\u001b[38;5;21;01mutils\u001b[39;00m\u001b[38;5;21;01m.\u001b[39;00m\u001b[38;5;21;01m_python_dispatch\u001b[39;00m\u001b[38;5;250m \u001b[39m\u001b[38;5;28;01mimport\u001b[39;00m _disable_current_modes\n\u001b[0;32m     46\u001b[0m \u001b[38;5;28;01mfrom\u001b[39;00m\u001b[38;5;250m \u001b[39m\u001b[38;5;21;01mtorch\u001b[39;00m\u001b[38;5;21;01m.\u001b[39;00m\u001b[38;5;21;01mutils\u001b[39;00m\u001b[38;5;21;01m.\u001b[39;00m\u001b[38;5;21;01m_traceback\u001b[39;00m\u001b[38;5;250m \u001b[39m\u001b[38;5;28;01mimport\u001b[39;00m format_traceback_short\n\u001b[1;32m---> 48\u001b[0m \u001b[38;5;28;01mfrom\u001b[39;00m\u001b[38;5;250m \u001b[39m\u001b[38;5;21;01m.\u001b[39;00m\u001b[38;5;250m \u001b[39m\u001b[38;5;28;01mimport\u001b[39;00m config, exc, trace_rules\n\u001b[0;32m     49\u001b[0m \u001b[38;5;28;01mfrom\u001b[39;00m\u001b[38;5;250m \u001b[39m\u001b[38;5;21;01m.\u001b[39;00m\u001b[38;5;21;01mbackends\u001b[39;00m\u001b[38;5;21;01m.\u001b[39;00m\u001b[38;5;21;01mregistry\u001b[39;00m\u001b[38;5;250m \u001b[39m\u001b[38;5;28;01mimport\u001b[39;00m CompilerFn\n\u001b[0;32m     50\u001b[0m \u001b[38;5;28;01mfrom\u001b[39;00m\u001b[38;5;250m \u001b[39m\u001b[38;5;21;01m.\u001b[39;00m\u001b[38;5;21;01mbytecode_analysis\u001b[39;00m\u001b[38;5;250m \u001b[39m\u001b[38;5;28;01mimport\u001b[39;00m remove_dead_code, remove_pointless_jumps\n",
      "File \u001b[1;32mc:\\Users\\Matko\\Desktop\\UEM\\Proyecto Grupal\\ProyectoGrupal-G3-UEM\\venv\\Lib\\site-packages\\torch\\_dynamo\\trace_rules.py:52\u001b[0m\n\u001b[0;32m     49\u001b[0m \u001b[38;5;28;01mfrom\u001b[39;00m\u001b[38;5;250m \u001b[39m\u001b[38;5;21;01m.\u001b[39;00m\u001b[38;5;21;01mresume_execution\u001b[39;00m\u001b[38;5;250m \u001b[39m\u001b[38;5;28;01mimport\u001b[39;00m TORCH_DYNAMO_RESUME_IN_PREFIX\n\u001b[0;32m     50\u001b[0m \u001b[38;5;28;01mfrom\u001b[39;00m\u001b[38;5;250m \u001b[39m\u001b[38;5;21;01m.\u001b[39;00m\u001b[38;5;21;01mutils\u001b[39;00m\u001b[38;5;250m \u001b[39m\u001b[38;5;28;01mimport\u001b[39;00m getfile, hashable, NP_SUPPORTED_MODULES, unwrap_if_wrapper\n\u001b[1;32m---> 52\u001b[0m \u001b[38;5;28;01mfrom\u001b[39;00m\u001b[38;5;250m \u001b[39m\u001b[38;5;21;01m.\u001b[39;00m\u001b[38;5;21;01mvariables\u001b[39;00m\u001b[38;5;250m \u001b[39m\u001b[38;5;28;01mimport\u001b[39;00m (\n\u001b[0;32m     53\u001b[0m     BuiltinVariable,\n\u001b[0;32m     54\u001b[0m     FunctorchHigherOrderVariable,\n\u001b[0;32m     55\u001b[0m     NestedUserFunctionVariable,\n\u001b[0;32m     56\u001b[0m     SkipFunctionVariable,\n\u001b[0;32m     57\u001b[0m     TorchInGraphFunctionVariable,\n\u001b[0;32m     58\u001b[0m     UserFunctionVariable,\n\u001b[0;32m     59\u001b[0m     UserMethodVariable,\n\u001b[0;32m     60\u001b[0m )\n\u001b[0;32m     63\u001b[0m \u001b[38;5;28;01mif\u001b[39;00m typing\u001b[38;5;241m.\u001b[39mTYPE_CHECKING:\n\u001b[0;32m     64\u001b[0m     \u001b[38;5;28;01mfrom\u001b[39;00m\u001b[38;5;250m \u001b[39m\u001b[38;5;21;01m.\u001b[39;00m\u001b[38;5;21;01mvariables\u001b[39;00m\u001b[38;5;21;01m.\u001b[39;00m\u001b[38;5;21;01mbase\u001b[39;00m\u001b[38;5;250m \u001b[39m\u001b[38;5;28;01mimport\u001b[39;00m VariableTracker\n",
      "File \u001b[1;32mc:\\Users\\Matko\\Desktop\\UEM\\Proyecto Grupal\\ProyectoGrupal-G3-UEM\\venv\\Lib\\site-packages\\torch\\_dynamo\\variables\\__init__.py:3\u001b[0m\n\u001b[0;32m      1\u001b[0m \u001b[38;5;66;03m# mypy: ignore-errors\u001b[39;00m\n\u001b[1;32m----> 3\u001b[0m \u001b[38;5;28;01mfrom\u001b[39;00m\u001b[38;5;250m \u001b[39m\u001b[38;5;21;01m.\u001b[39;00m\u001b[38;5;21;01mbase\u001b[39;00m\u001b[38;5;250m \u001b[39m\u001b[38;5;28;01mimport\u001b[39;00m VariableTracker\n\u001b[0;32m      4\u001b[0m \u001b[38;5;28;01mfrom\u001b[39;00m\u001b[38;5;250m \u001b[39m\u001b[38;5;21;01m.\u001b[39;00m\u001b[38;5;21;01mbuiltin\u001b[39;00m\u001b[38;5;250m \u001b[39m\u001b[38;5;28;01mimport\u001b[39;00m BuiltinVariable\n\u001b[0;32m      5\u001b[0m \u001b[38;5;28;01mfrom\u001b[39;00m\u001b[38;5;250m \u001b[39m\u001b[38;5;21;01m.\u001b[39;00m\u001b[38;5;21;01mconstant\u001b[39;00m\u001b[38;5;250m \u001b[39m\u001b[38;5;28;01mimport\u001b[39;00m ConstantVariable, EnumVariable\n",
      "File \u001b[1;32mc:\\Users\\Matko\\Desktop\\UEM\\Proyecto Grupal\\ProyectoGrupal-G3-UEM\\venv\\Lib\\site-packages\\torch\\_dynamo\\variables\\base.py:10\u001b[0m\n\u001b[0;32m      8\u001b[0m \u001b[38;5;28;01mfrom\u001b[39;00m\u001b[38;5;250m \u001b[39m\u001b[38;5;21;01m.\u001b[39;00m\u001b[38;5;21;01m.\u001b[39;00m\u001b[38;5;21;01mcurrent_scope_id\u001b[39;00m\u001b[38;5;250m \u001b[39m\u001b[38;5;28;01mimport\u001b[39;00m current_scope_id\n\u001b[0;32m      9\u001b[0m \u001b[38;5;28;01mfrom\u001b[39;00m\u001b[38;5;250m \u001b[39m\u001b[38;5;21;01m.\u001b[39;00m\u001b[38;5;21;01m.\u001b[39;00m\u001b[38;5;21;01mexc\u001b[39;00m\u001b[38;5;250m \u001b[39m\u001b[38;5;28;01mimport\u001b[39;00m unimplemented\n\u001b[1;32m---> 10\u001b[0m \u001b[38;5;28;01mfrom\u001b[39;00m\u001b[38;5;250m \u001b[39m\u001b[38;5;21;01m.\u001b[39;00m\u001b[38;5;21;01m.\u001b[39;00m\u001b[38;5;21;01msource\u001b[39;00m\u001b[38;5;250m \u001b[39m\u001b[38;5;28;01mimport\u001b[39;00m AttrSource, Source\n\u001b[0;32m     11\u001b[0m \u001b[38;5;28;01mfrom\u001b[39;00m\u001b[38;5;250m \u001b[39m\u001b[38;5;21;01m.\u001b[39;00m\u001b[38;5;21;01m.\u001b[39;00m\u001b[38;5;21;01mutils\u001b[39;00m\u001b[38;5;250m \u001b[39m\u001b[38;5;28;01mimport\u001b[39;00m istype\n\u001b[0;32m     14\u001b[0m \u001b[38;5;28;01mclass\u001b[39;00m\u001b[38;5;250m \u001b[39m\u001b[38;5;21;01mMutableLocalSource\u001b[39;00m(Enum):\n",
      "File \u001b[1;32mc:\\Users\\Matko\\Desktop\\UEM\\Proyecto Grupal\\ProyectoGrupal-G3-UEM\\venv\\Lib\\site-packages\\torch\\_dynamo\\source.py:16\u001b[0m\n\u001b[0;32m     11\u001b[0m \u001b[38;5;28;01mfrom\u001b[39;00m\u001b[38;5;250m \u001b[39m\u001b[38;5;21;01m.\u001b[39;00m\u001b[38;5;21;01mutils\u001b[39;00m\u001b[38;5;250m \u001b[39m\u001b[38;5;28;01mimport\u001b[39;00m enum_repr\n\u001b[0;32m     13\u001b[0m \u001b[38;5;66;03m# It shouldn't be supported to construct an NNModuleVariable inside an FSDP module,\u001b[39;00m\n\u001b[0;32m     14\u001b[0m \u001b[38;5;66;03m# so those cases are omitted intentionally\u001b[39;00m\n\u001b[0;32m     15\u001b[0m _GUARD_SOURCE_NN_MODULE \u001b[38;5;241m=\u001b[39m {\n\u001b[1;32m---> 16\u001b[0m     GuardSource\u001b[38;5;241m.\u001b[39mLOCAL: \u001b[43mGuardSource\u001b[49m\u001b[38;5;241;43m.\u001b[39;49m\u001b[43mLOCAL_NN_MODULE\u001b[49m,\n\u001b[0;32m     17\u001b[0m     GuardSource\u001b[38;5;241m.\u001b[39mGLOBAL: GuardSource\u001b[38;5;241m.\u001b[39mGLOBAL_NN_MODULE,\n\u001b[0;32m     18\u001b[0m     GuardSource\u001b[38;5;241m.\u001b[39mLOCAL_NN_MODULE: GuardSource\u001b[38;5;241m.\u001b[39mLOCAL_NN_MODULE,\n\u001b[0;32m     19\u001b[0m     GuardSource\u001b[38;5;241m.\u001b[39mGLOBAL_NN_MODULE: GuardSource\u001b[38;5;241m.\u001b[39mGLOBAL_NN_MODULE,\n\u001b[0;32m     20\u001b[0m }\n\u001b[0;32m     22\u001b[0m _GUARD_SOURCE_FSDP_MODULE \u001b[38;5;241m=\u001b[39m {\n\u001b[0;32m     23\u001b[0m     GuardSource\u001b[38;5;241m.\u001b[39mLOCAL: GuardSource\u001b[38;5;241m.\u001b[39mLOCAL_FSDP_MODULE,\n\u001b[0;32m     24\u001b[0m     GuardSource\u001b[38;5;241m.\u001b[39mGLOBAL: GuardSource\u001b[38;5;241m.\u001b[39mGLOBAL_FSDP_MODULE,\n\u001b[1;32m   (...)\u001b[0m\n\u001b[0;32m     28\u001b[0m     GuardSource\u001b[38;5;241m.\u001b[39mGLOBAL_FSDP_MODULE: GuardSource\u001b[38;5;241m.\u001b[39mGLOBAL_FSDP_MODULE,\n\u001b[0;32m     29\u001b[0m }\n\u001b[0;32m     31\u001b[0m _GUARD_SOURCE_NOT_NN_MODULE \u001b[38;5;241m=\u001b[39m {\n\u001b[0;32m     32\u001b[0m     GuardSource\u001b[38;5;241m.\u001b[39mLOCAL: GuardSource\u001b[38;5;241m.\u001b[39mLOCAL,\n\u001b[0;32m     33\u001b[0m     GuardSource\u001b[38;5;241m.\u001b[39mGLOBAL: GuardSource\u001b[38;5;241m.\u001b[39mGLOBAL,\n\u001b[1;32m   (...)\u001b[0m\n\u001b[0;32m     37\u001b[0m     GuardSource\u001b[38;5;241m.\u001b[39mGLOBAL_FSDP_MODULE: GuardSource\u001b[38;5;241m.\u001b[39mGLOBAL,\n\u001b[0;32m     38\u001b[0m }\n",
      "\u001b[1;31mAttributeError\u001b[0m: type object 'GuardSource' has no attribute 'LOCAL_NN_MODULE'"
     ]
    }
   ],
   "source": [
    "# Entrenar\n",
    "results = model.train(data=\"UEM-Grupal-1/data.yaml\", epochs=50, imgsz=640, batch=4, device=\"cpu\")"
   ]
  },
  {
   "cell_type": "code",
   "execution_count": null,
   "metadata": {},
   "outputs": [],
   "source": []
  }
 ],
 "metadata": {
  "kernelspec": {
   "display_name": "venv",
   "language": "python",
   "name": "python3"
  },
  "language_info": {
   "codemirror_mode": {
    "name": "ipython",
    "version": 3
   },
   "file_extension": ".py",
   "mimetype": "text/x-python",
   "name": "python",
   "nbconvert_exporter": "python",
   "pygments_lexer": "ipython3",
   "version": "3.12.1"
  }
 },
 "nbformat": 4,
 "nbformat_minor": 2
}
